{
 "cells": [
  {
   "cell_type": "markdown",
   "metadata": {},
   "source": [
    "# Calculate Class Weights Based on data occurence in each Class"
   ]
  },
  {
   "cell_type": "code",
   "execution_count": 1,
   "metadata": {},
   "outputs": [],
   "source": [
    "def class_weights(cls_list):\n",
    "    '''get count of each element in list in dict format as {element:count}'''\n",
    "    \n",
    "    cls_count = {cls :cls_list.count(cls) for cls in cls_list} \n",
    "    \n",
    "    '''get the max count exist in dict'''\n",
    "    \n",
    "    max_count_of_cls=max(cls_count.values())\n",
    "    \n",
    "    '''return the class weight for each class by dividing each cls count with max count'''\n",
    "    \n",
    "    return {cls: round(max_count_of_cls/count, 2) for cls, count in cls_count.items()}"
   ]
  },
  {
   "cell_type": "code",
   "execution_count": 2,
   "metadata": {},
   "outputs": [
    {
     "data": {
      "text/plain": [
       "{1: 2.33, 2: 2.33, 3: 1.75, 4: 7.0, 5: 3.5, 6: 2.33, 8: 1.0, 9: 1.75}"
      ]
     },
     "execution_count": 2,
     "metadata": {},
     "output_type": "execute_result"
    }
   ],
   "source": [
    "cls = [1,2,4,5,1,3,9,5,1,3,2,9,2,3,9,3,6,6,6,8,8,8,8,8,8,8,9]\n",
    "\n",
    "class_weights(cls)"
   ]
  },
  {
   "cell_type": "code",
   "execution_count": null,
   "metadata": {},
   "outputs": [],
   "source": []
  }
 ],
 "metadata": {
  "kernelspec": {
   "display_name": "Python 3",
   "language": "python",
   "name": "python3"
  },
  "language_info": {
   "codemirror_mode": {
    "name": "ipython",
    "version": 3
   },
   "file_extension": ".py",
   "mimetype": "text/x-python",
   "name": "python",
   "nbconvert_exporter": "python",
   "pygments_lexer": "ipython3",
   "version": "3.5.2"
  }
 },
 "nbformat": 4,
 "nbformat_minor": 2
}
